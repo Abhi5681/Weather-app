{
 "cells": [
  {
   "cell_type": "code",
   "execution_count": null,
   "id": "910932bb-5c7d-4e4f-9e72-029044b3bd93",
   "metadata": {},
   "outputs": [],
   "source": [
    "import requests\n",
    "\n",
    "def get_weather(city, api_key):\n",
    "    base_url = \"http://api.openweathermap.org/data/2.5/weather\"\n",
    "    params = {\"q\": city, \"appid\": api_key, \"units\": \"metric\"}\n",
    "    response = requests.get(base_url, params=params)\n",
    "\n",
    "    if response.status_code == 200:\n",
    "        data = response.json()\n",
    "        print(f\"Weather in {city}:\")\n",
    "        print(f\"Temperature: {data['main']['temp']}°C\")\n",
    "        print(f\"Weather: {data['weather'][0]['description']}\")\n",
    "    else:\n",
    "        print(\"Failed to fetch weather data. Check your city name or API key.\")\n",
    "\n",
    "# Example usage\n",
    "api_key = \"d18b4a52d25f4d79ba099dd1cd4895db\"\n",
    "get_weather(\"dehradun\",api_key)"
   ]
  }
 ],
 "metadata": {
  "kernelspec": {
   "display_name": "Python 3 (ipykernel)",
   "language": "python",
   "name": "python3"
  },
  "language_info": {
   "codemirror_mode": {
    "name": "ipython",
    "version": 3
   },
   "file_extension": ".py",
   "mimetype": "text/x-python",
   "name": "python",
   "nbconvert_exporter": "python",
   "pygments_lexer": "ipython3",
   "version": "3.12.5"
  }
 },
 "nbformat": 4,
 "nbformat_minor": 5
}
